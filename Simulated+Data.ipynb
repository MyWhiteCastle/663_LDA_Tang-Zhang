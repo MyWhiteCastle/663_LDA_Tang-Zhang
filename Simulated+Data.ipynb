{
 "cells": [
  {
   "cell_type": "markdown",
   "metadata": {},
   "source": [
    "# Application to Simulated Data"
   ]
  },
  {
   "cell_type": "markdown",
   "metadata": {},
   "source": [
    "### Gibbs Sampling method\n",
    "First, we use the algorithm based on Gibbs sampling to accomplish our goal of summarizing 5 topics out of the \"One Piece\" document, and under each topic pick the top 10 words. This package is called \"LDApackage\". The final output is the file \"Gibbs_Sim_topwords.dat\". $\\textbf{If wish to reproduce results, see README for instructions.}$"
   ]
  },
  {
   "cell_type": "code",
   "execution_count": 1,
   "metadata": {
    "collapsed": false
   },
   "outputs": [
    {
     "name": "stdout",
     "output_type": "stream",
     "text": [
      "Processing /home/jovyan/work/sta-663-2019/projects/LDA\n",
      "Building wheels for collected packages: LDApackage\n",
      "  Building wheel for LDApackage (setup.py) ... \u001b[?25l-\b \b\\\b \bdone\n",
      "\u001b[?25h  Stored in directory: /tmp/pip-ephem-wheel-cache-a1rd_c8w/wheels/e6/03/d4/b04aaa3df510f60cbe959e49b4d2be1f0b88341f429548e7c5\n",
      "Successfully built LDApackage\n",
      "Installing collected packages: LDApackage\n",
      "  Found existing installation: LDApackage 1.0\n",
      "    Uninstalling LDApackage-1.0:\n",
      "      Successfully uninstalled LDApackage-1.0\n",
      "Successfully installed LDApackage-1.0\n"
     ]
    }
   ],
   "source": [
    "! pip install ."
   ]
  },
  {
   "cell_type": "code",
   "execution_count": 2,
   "metadata": {
    "collapsed": true
   },
   "outputs": [],
   "source": [
    "import LDApackage"
   ]
  },
  {
   "cell_type": "code",
   "execution_count": 3,
   "metadata": {
    "collapsed": false
   },
   "outputs": [],
   "source": [
    "datafile = 'simulated.txt'\n",
    "dpre = LDApackage.preprocessing(datafile)\n",
    "lda = LDApackage.LDAModel(dpre)\n",
    "lda.estimate()"
   ]
  },
  {
   "cell_type": "markdown",
   "metadata": {},
   "source": [
    "#### To view the final output, please see \"topwords.dat\" in the directory. (Results would be rewritten each time running the code with different/same data.)"
   ]
  },
  {
   "cell_type": "code",
   "execution_count": null,
   "metadata": {
    "collapsed": true
   },
   "outputs": [],
   "source": []
  }
 ],
 "metadata": {
  "kernelspec": {
   "display_name": "Python 3",
   "language": "python",
   "name": "python3"
  },
  "language_info": {
   "codemirror_mode": {
    "name": "ipython",
    "version": 3
   },
   "file_extension": ".py",
   "mimetype": "text/x-python",
   "name": "python",
   "nbconvert_exporter": "python",
   "pygments_lexer": "ipython3",
   "version": "3.5.2"
  }
 },
 "nbformat": 4,
 "nbformat_minor": 2
}
