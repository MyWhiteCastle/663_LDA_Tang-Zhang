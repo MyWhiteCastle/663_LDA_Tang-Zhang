{
 "cells": [
  {
   "cell_type": "markdown",
   "metadata": {},
   "source": [
    "# Application to Real Data\n",
    "### About the Data\n",
    "The data that we will be using in this project is part of LDA-C, which is a C implementation of latent Dirichlet allocation (LDA). The data is composed of three parts: a 1.3-megabytes corpus of text documents, a standard list of stop words (words like \"the\", \"a\" and etc. that are supposed to be removed from being considered as words under topics), and a list of unique vocabularies that occur in the texts. The main corpus that we perform the analyses on comprises of 500 documents from the Associated Press."
   ]
  },
  {
   "cell_type": "markdown",
   "metadata": {},
   "source": [
    "## Gibbs Sampling Method\n",
    "First, we use the algorithm based on Gibbs sampling to accomplish our goal of summarizing 30 topics out of the 500 documents, and under each topic pick the top 10 words. This package is called \"LDApackage\". The final output is the file \"Gibbs_RD_topwords.dat\". $\\textbf{If wish to reproduce results, see README for instructions.}$"
   ]
  },
  {
   "cell_type": "code",
   "execution_count": null,
   "metadata": {
    "collapsed": false
   },
   "outputs": [],
   "source": [
    "! pip install ."
   ]
  },
  {
   "cell_type": "code",
   "execution_count": null,
   "metadata": {
    "collapsed": false
   },
   "outputs": [],
   "source": [
    "import LDApackage"
   ]
  },
  {
   "cell_type": "code",
   "execution_count": null,
   "metadata": {
    "collapsed": false
   },
   "outputs": [],
   "source": [
    "datafile = 'RealData.txt'\n",
    "pred = LDApackage.preprocessing(datafile)\n",
    "lda = LDApackage.LDAModel(pred)\n",
    "lda.estimate()"
   ]
  },
  {
   "cell_type": "markdown",
   "metadata": {
    "collapsed": true
   },
   "source": [
    "#### To view the final output, please see \"topwords.dat\" in the directory. (Results would be rewritten each time running the code with different/same data.)"
   ]
  },
  {
   "cell_type": "markdown",
   "metadata": {
    "collapsed": true
   },
   "source": [
    "## VIEM Method"
   ]
  },
  {
   "cell_type": "code",
   "execution_count": null,
   "metadata": {
    "collapsed": true
   },
   "outputs": [],
   "source": [
    "#get documents \n",
    "real_docs = LDApackage.read_documents('RealData.txt')\n",
    "#get topic and words\n",
    "alpha, log_beta, topicwords = LDApackage.LDA_VIEM(real_docs,10,10)\n",
    "\n",
    "#save topic words to txt file\n",
    "with open('VIEM_RD_topwords.txt', 'w') as f:\n",
    "    for item in topicwords:\n",
    "        f.write(\"%s\\n\" % item)"
   ]
  }
 ],
 "metadata": {
  "kernelspec": {
   "display_name": "Python 3",
   "language": "python",
   "name": "python3"
  },
  "language_info": {
   "codemirror_mode": {
    "name": "ipython",
    "version": 3
   },
   "file_extension": ".py",
   "mimetype": "text/x-python",
   "name": "python",
   "nbconvert_exporter": "python",
   "pygments_lexer": "ipython3",
   "version": "3.5.2"
  }
 },
 "nbformat": 4,
 "nbformat_minor": 2
}
